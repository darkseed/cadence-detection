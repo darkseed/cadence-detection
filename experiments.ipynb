{
 "metadata": {
  "name": "",
  "signature": "sha256:71cde02203fdbfff70d121889c21f261c1c0ff9e86fd6e911afcc9c6a74f64df"
 },
 "nbformat": 3,
 "nbformat_minor": 0,
 "worksheets": [
  {
   "cells": [
    {
     "cell_type": "heading",
     "level": 1,
     "metadata": {},
     "source": [
      "Candence Detection in Dutch folks songs"
     ]
    },
    {
     "cell_type": "markdown",
     "metadata": {},
     "source": []
    },
    {
     "cell_type": "code",
     "collapsed": false,
     "input": [
      "import numpy as np\n",
      "\n",
      "from cadencer import CadenceClassifier, load_data, FEATURES\n",
      "from cadencer import unzip, flatten, decode"
     ],
     "language": "python",
     "metadata": {},
     "outputs": [],
     "prompt_number": 5
    },
    {
     "cell_type": "code",
     "collapsed": false,
     "input": [
      "data, IDs = load_data('data/trigram_dataset_note_20140503b.pkl', features='all')"
     ],
     "language": "python",
     "metadata": {},
     "outputs": [],
     "prompt_number": 2
    },
    {
     "cell_type": "code",
     "collapsed": false,
     "input": [],
     "language": "python",
     "metadata": {},
     "outputs": [],
     "prompt_number": 22
    },
    {
     "cell_type": "code",
     "collapsed": false,
     "input": [
      "import pandas as pd\n",
      "\n",
      "from sklearn.cross_validation import KFold\n",
      "from sklearn.metrics import precision_recall_fscore_support\n",
      "\n",
      "\n",
      "def cross_validate(data, clf, n_folds=10, shuffle=True, random_state=None):\n",
      "    scores = pd.DataFrame(columns=['fold', 'class', 'precision', 'recall', 'F'])\n",
      "    for k, (train_ixs, test_ixs) in enumerate(KFold(len(data), n_folds=n_folds, shuffle=shuffle, random_state=random_state)):\n",
      "        train, test = data[train_ixs], data[test_ixs]\n",
      "        X_train, y_train = unzip(flatten(train))\n",
      "        y_train = np.array(y_train)\n",
      "        clf.fit(X_train, y_train)\n",
      "        all_preds = []\n",
      "        all_y_test = []\n",
      "\n",
      "        for k, i_test in enumerate(test): #for each melody\n",
      "            X_test, y_test = unzip(i_test)\n",
      "            _, y_test, _ = unzip(map(decode, y_test))\n",
      "            preds = clf.predict(X_test)\n",
      "            all_y_test.extend(y_test)\n",
      "            all_preds.extend(preds)\n",
      "        p, r, f, _ = precision_recall_fscore_support(all_y_test, all_preds)\n",
      "        scores.loc[k] = np.array([k, 0, p[0], r[0], f[0]])\n",
      "        scores.loc[k+1] = np.array([k, 1, p[1], r[1], f[1]])\n",
      "    return scores"
     ],
     "language": "python",
     "metadata": {},
     "outputs": [],
     "prompt_number": 23
    },
    {
     "cell_type": "code",
     "collapsed": false,
     "input": [
      "from sklearn.ensemble import RandomForestClassifier\n",
      "\n",
      "estimator = RandomForestClassifier(n_estimators=50, min_samples_leaf=1, n_jobs=6)\n",
      "clf = CadenceClassifier(estimator)\n",
      "majority_scores = cross_validate(data, clf)"
     ],
     "language": "python",
     "metadata": {},
     "outputs": []
    },
    {
     "cell_type": "code",
     "collapsed": false,
     "input": [
      "estimator = RandomForestClassifier(n_estimators=50, min_samples_leaf=1, n_jobs=6)\n",
      "clf = CadenceClassifier(estimator, prediction_mode='weighted')\n",
      "proba_scores = cross_validate(data, clf)"
     ],
     "language": "python",
     "metadata": {},
     "outputs": []
    },
    {
     "cell_type": "code",
     "collapsed": false,
     "input": [],
     "language": "python",
     "metadata": {},
     "outputs": []
    }
   ],
   "metadata": {}
  }
 ]
}